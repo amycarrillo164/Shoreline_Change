{
 "cells": [
  {
   "cell_type": "markdown",
   "metadata": {},
   "source": [
    "https://github.com/GClunies/noaa_coops"
   ]
  },
  {
   "cell_type": "code",
   "execution_count": 63,
   "metadata": {},
   "outputs": [],
   "source": [
    "from noaa_coops import Station\n",
    "from pprint import pprint\n",
    "mokuoloe = Station(id=\"1612480\")\n",
    "pprint(mokuoloe.name)"
   ]
  },
  {
   "cell_type": "code",
   "execution_count": 7,
   "metadata": {},
   "outputs": [
    {
     "name": "stdout",
     "output_type": "stream",
     "text": [
      "[('tidal', True),\n",
      " ('greatlakes', False),\n",
      " ('shefcode', 'MOKH1'),\n",
      " ('details',\n",
      "  {'established': '1957-05-03 00:00:00.0',\n",
      "   'id': '1612480',\n",
      "   'noaachart': '19359',\n",
      "   'origyear': '1989-01-21 00:00:00.0',\n",
      "   'removed': '',\n",
      "   'self': 'https://api.tidesandcurrents.noaa.gov/mdapi/prod/webapi/stations/1612480/details.json',\n",
      "   'timemeridian': 0,\n",
      "   'timezone': -10.0}),\n",
      " ('sensors',\n",
      "  {'self': 'https://api.tidesandcurrents.noaa.gov/mdapi/prod/webapi/stations/1612480/sensors.json',\n",
      "   'sensors': [{'dcp': 1,\n",
      "                'elevation': None,\n",
      "                'message': '',\n",
      "                'name': 'Acoustic WL',\n",
      "                'refdatum': '',\n",
      "                'sensorID': 'A1',\n",
      "                'status': 1},\n",
      "               {'dcp': 3,\n",
      "                'elevation': 32.8084,\n",
      "                'message': '',\n",
      "                'name': 'Wind',\n",
      "                'refdatum': 'Site Elevation',\n",
      "                'sensorID': 'C1',\n",
      "                'status': 1},\n",
      "               {'dcp': 3,\n",
      "                'elevation': 9.320867,\n",
      "                'message': '',\n",
      "                'name': 'Air Temperature',\n",
      "                'refdatum': 'Site Elevation',\n",
      "                'sensorID': 'D1',\n",
      "                'status': 1},\n",
      "               {'dcp': 1,\n",
      "                'elevation': -4.031798,\n",
      "                'message': '',\n",
      "                'name': 'Water Temperature',\n",
      "                'refdatum': 'MLLW',\n",
      "                'sensorID': 'E1',\n",
      "                'status': 1},\n",
      "               {'dcp': 1,\n",
      "                'elevation': 9.058622,\n",
      "                'message': '',\n",
      "                'name': 'Barometric Pressure',\n",
      "                'refdatum': 'MSL',\n",
      "                'sensorID': 'F1',\n",
      "                'status': 1},\n",
      "               {'dcp': 1,\n",
      "                'elevation': None,\n",
      "                'message': '',\n",
      "                'name': 'Tsunami WL',\n",
      "                'refdatum': '',\n",
      "                'sensorID': 'U1',\n",
      "                'status': 1},\n",
      "               {'dcp': 0,\n",
      "                'elevation': 8.670171,\n",
      "                'message': '',\n",
      "                'name': 'site',\n",
      "                'refdatum': 'MSL',\n",
      "                'sensorID': 'site',\n",
      "                'status': 1}],\n",
      "   'units': 'feet'})]\n"
     ]
    }
   ],
   "source": [
    "pprint(list(mokuoloe.metadata.items())[:5]) "
   ]
  },
  {
   "cell_type": "code",
   "execution_count": 8,
   "metadata": {},
   "outputs": [
    {
     "name": "stdout",
     "output_type": "stream",
     "text": [
      "{'Wind': {'start_date': '2008-02-11 18:42', 'end_date': '2024-03-23 16:42'}, 'Verified High/Low Water Level': {'start_date': '1981-01-01 10:54', 'end_date': '2024-02-29 23:54'}, 'Air Temperature': {'start_date': '2008-02-14 21:42', 'end_date': '2024-03-23 16:42'}, 'Water Temperature': {'start_date': '1994-01-12 20:00', 'end_date': '2024-03-23 16:48'}, 'Verified 6-Minute Water Level': {'start_date': '1994-12-01 00:00', 'end_date': '2024-02-29 23:54'}, 'Verified Hourly Height Water Level': {'start_date': '1981-01-01 10:00', 'end_date': '2024-02-29 23:00'}, 'Verified Monthly Mean Water Level': {'start_date': '1957-05-01 00:00', 'end_date': '2024-02-29 23:54'}, 'Barometric Pressure': {'start_date': '2007-06-06 00:00', 'end_date': '2024-03-23 16:48'}, 'Preliminary 6-Minute Water Level': {'start_date': '2001-01-01 00:00', 'end_date': '2024-03-23 16:48'}}\n"
     ]
    }
   ],
   "source": [
    "print(mokuoloe.data_inventory)"
   ]
  },
  {
   "cell_type": "markdown",
   "metadata": {},
   "source": [
    "## Collect data from a specific timeframe"
   ]
  },
  {
   "cell_type": "code",
   "execution_count": 65,
   "metadata": {},
   "outputs": [],
   "source": [
    "df_water_levels = mokuoloe.get_data(\n",
    "     begin_date=\"20000101\",\n",
    "     end_date=\"20240101\",\n",
    "     product=\"water_level\",\n",
    "     #mean sea level\n",
    "     datum=\"MSL\",\n",
    "     units=\"metric\",\n",
    "     time_zone=\"gmt\") "
   ]
  },
  {
   "cell_type": "code",
   "execution_count": 66,
   "metadata": {},
   "outputs": [
    {
     "data": {
      "text/html": [
       "<div>\n",
       "<style scoped>\n",
       "    .dataframe tbody tr th:only-of-type {\n",
       "        vertical-align: middle;\n",
       "    }\n",
       "\n",
       "    .dataframe tbody tr th {\n",
       "        vertical-align: top;\n",
       "    }\n",
       "\n",
       "    .dataframe thead th {\n",
       "        text-align: right;\n",
       "    }\n",
       "</style>\n",
       "<table border=\"1\" class=\"dataframe\">\n",
       "  <thead>\n",
       "    <tr style=\"text-align: right;\">\n",
       "      <th></th>\n",
       "      <th>v</th>\n",
       "      <th>s</th>\n",
       "      <th>f</th>\n",
       "      <th>q</th>\n",
       "    </tr>\n",
       "    <tr>\n",
       "      <th>t</th>\n",
       "      <th></th>\n",
       "      <th></th>\n",
       "      <th></th>\n",
       "      <th></th>\n",
       "    </tr>\n",
       "  </thead>\n",
       "  <tbody>\n",
       "    <tr>\n",
       "      <th>2000-01-01 00:00:00</th>\n",
       "      <td>-0.123</td>\n",
       "      <td>0.002</td>\n",
       "      <td>0,0,0,0</td>\n",
       "      <td>v</td>\n",
       "    </tr>\n",
       "    <tr>\n",
       "      <th>2000-01-01 00:06:00</th>\n",
       "      <td>-0.134</td>\n",
       "      <td>0.003</td>\n",
       "      <td>0,0,0,0</td>\n",
       "      <td>v</td>\n",
       "    </tr>\n",
       "    <tr>\n",
       "      <th>2000-01-01 00:12:00</th>\n",
       "      <td>-0.146</td>\n",
       "      <td>0.003</td>\n",
       "      <td>0,0,0,0</td>\n",
       "      <td>v</td>\n",
       "    </tr>\n",
       "    <tr>\n",
       "      <th>2000-01-01 00:18:00</th>\n",
       "      <td>-0.157</td>\n",
       "      <td>0.002</td>\n",
       "      <td>0,0,0,0</td>\n",
       "      <td>v</td>\n",
       "    </tr>\n",
       "    <tr>\n",
       "      <th>2000-01-01 00:24:00</th>\n",
       "      <td>-0.171</td>\n",
       "      <td>0.001</td>\n",
       "      <td>0,0,0,0</td>\n",
       "      <td>v</td>\n",
       "    </tr>\n",
       "  </tbody>\n",
       "</table>\n",
       "</div>"
      ],
      "text/plain": [
       "                         v      s        f  q\n",
       "t                                            \n",
       "2000-01-01 00:00:00 -0.123  0.002  0,0,0,0  v\n",
       "2000-01-01 00:06:00 -0.134  0.003  0,0,0,0  v\n",
       "2000-01-01 00:12:00 -0.146  0.003  0,0,0,0  v\n",
       "2000-01-01 00:18:00 -0.157  0.002  0,0,0,0  v\n",
       "2000-01-01 00:24:00 -0.171  0.001  0,0,0,0  v"
      ]
     },
     "execution_count": 66,
     "metadata": {},
     "output_type": "execute_result"
    }
   ],
   "source": [
    "df_water_levels.head()"
   ]
  },
  {
   "cell_type": "code",
   "execution_count": 68,
   "metadata": {},
   "outputs": [
    {
     "data": {
      "text/html": [
       "<div>\n",
       "<style scoped>\n",
       "    .dataframe tbody tr th:only-of-type {\n",
       "        vertical-align: middle;\n",
       "    }\n",
       "\n",
       "    .dataframe tbody tr th {\n",
       "        vertical-align: top;\n",
       "    }\n",
       "\n",
       "    .dataframe thead th {\n",
       "        text-align: right;\n",
       "    }\n",
       "</style>\n",
       "<table border=\"1\" class=\"dataframe\">\n",
       "  <thead>\n",
       "    <tr style=\"text-align: right;\">\n",
       "      <th></th>\n",
       "      <th>v</th>\n",
       "    </tr>\n",
       "    <tr>\n",
       "      <th>t</th>\n",
       "      <th></th>\n",
       "    </tr>\n",
       "  </thead>\n",
       "  <tbody>\n",
       "    <tr>\n",
       "      <th>2000-01-01 00:00:00</th>\n",
       "      <td>-0.123</td>\n",
       "    </tr>\n",
       "    <tr>\n",
       "      <th>2000-01-01 00:06:00</th>\n",
       "      <td>-0.134</td>\n",
       "    </tr>\n",
       "    <tr>\n",
       "      <th>2000-01-01 00:12:00</th>\n",
       "      <td>-0.146</td>\n",
       "    </tr>\n",
       "    <tr>\n",
       "      <th>2000-01-01 00:18:00</th>\n",
       "      <td>-0.157</td>\n",
       "    </tr>\n",
       "    <tr>\n",
       "      <th>2000-01-01 00:24:00</th>\n",
       "      <td>-0.171</td>\n",
       "    </tr>\n",
       "  </tbody>\n",
       "</table>\n",
       "</div>"
      ],
      "text/plain": [
       "                         v\n",
       "t                         \n",
       "2000-01-01 00:00:00 -0.123\n",
       "2000-01-01 00:06:00 -0.134\n",
       "2000-01-01 00:12:00 -0.146\n",
       "2000-01-01 00:18:00 -0.157\n",
       "2000-01-01 00:24:00 -0.171"
      ]
     },
     "execution_count": 68,
     "metadata": {},
     "output_type": "execute_result"
    }
   ],
   "source": [
    "mok_wl = df_water_levels[[\"v\"]]\n",
    "mok_wl.head()"
   ]
  },
  {
   "cell_type": "code",
   "execution_count": 69,
   "metadata": {},
   "outputs": [
    {
     "data": {
      "text/html": [
       "<div>\n",
       "<style scoped>\n",
       "    .dataframe tbody tr th:only-of-type {\n",
       "        vertical-align: middle;\n",
       "    }\n",
       "\n",
       "    .dataframe tbody tr th {\n",
       "        vertical-align: top;\n",
       "    }\n",
       "\n",
       "    .dataframe thead th {\n",
       "        text-align: right;\n",
       "    }\n",
       "</style>\n",
       "<table border=\"1\" class=\"dataframe\">\n",
       "  <thead>\n",
       "    <tr style=\"text-align: right;\">\n",
       "      <th></th>\n",
       "      <th>dates</th>\n",
       "      <th>tide</th>\n",
       "    </tr>\n",
       "  </thead>\n",
       "  <tbody>\n",
       "    <tr>\n",
       "      <th>0</th>\n",
       "      <td>2000-01-01 00:00:00</td>\n",
       "      <td>-0.123</td>\n",
       "    </tr>\n",
       "    <tr>\n",
       "      <th>1</th>\n",
       "      <td>2000-01-01 00:06:00</td>\n",
       "      <td>-0.134</td>\n",
       "    </tr>\n",
       "    <tr>\n",
       "      <th>2</th>\n",
       "      <td>2000-01-01 00:12:00</td>\n",
       "      <td>-0.146</td>\n",
       "    </tr>\n",
       "    <tr>\n",
       "      <th>3</th>\n",
       "      <td>2000-01-01 00:18:00</td>\n",
       "      <td>-0.157</td>\n",
       "    </tr>\n",
       "    <tr>\n",
       "      <th>4</th>\n",
       "      <td>2000-01-01 00:24:00</td>\n",
       "      <td>-0.171</td>\n",
       "    </tr>\n",
       "  </tbody>\n",
       "</table>\n",
       "</div>"
      ],
      "text/plain": [
       "                dates   tide\n",
       "0 2000-01-01 00:00:00 -0.123\n",
       "1 2000-01-01 00:06:00 -0.134\n",
       "2 2000-01-01 00:12:00 -0.146\n",
       "3 2000-01-01 00:18:00 -0.157\n",
       "4 2000-01-01 00:24:00 -0.171"
      ]
     },
     "execution_count": 69,
     "metadata": {},
     "output_type": "execute_result"
    }
   ],
   "source": [
    "mok_wl.reset_index(inplace=True)\n",
    "mok_wl.rename(columns = {'t':'dates','v':'tide'}, inplace = True)\n",
    "mok_wl.head()\n"
   ]
  },
  {
   "cell_type": "code",
   "execution_count": 70,
   "metadata": {},
   "outputs": [],
   "source": [
    "mok_wl.to_csv('2000to2024.csv', index = False)"
   ]
  }
 ],
 "metadata": {
  "kernelspec": {
   "display_name": "coastsat",
   "language": "python",
   "name": "python3"
  },
  "language_info": {
   "codemirror_mode": {
    "name": "ipython",
    "version": 3
   },
   "file_extension": ".py",
   "mimetype": "text/x-python",
   "name": "python",
   "nbconvert_exporter": "python",
   "pygments_lexer": "ipython3",
   "version": "3.12.2"
  }
 },
 "nbformat": 4,
 "nbformat_minor": 2
}
